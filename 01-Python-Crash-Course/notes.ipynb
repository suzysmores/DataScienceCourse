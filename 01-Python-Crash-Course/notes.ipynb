{
 "cells": [
  {
   "cell_type": "markdown",
   "metadata": {},
   "source": [
    "Lambda functions are throaway functions - you do not have to name them - you can just use an anonymous function. \n",
    "Create functions from functions. "
   ]
  },
  {
   "cell_type": "markdown",
   "metadata": {},
   "source": [
    "For example: \n",
    "def times2(num) \n",
    "    return num*2\n",
    "\n",
    "Is the same as \n",
    "lambda num: num*2 "
   ]
  },
  {
   "cell_type": "markdown",
   "metadata": {},
   "source": [
    "In the example below - we create a list function: which has an object that filters the \"seq\" list we were given to find all the words/items of the list that start with 'S'. "
   ]
  },
  {
   "cell_type": "code",
   "execution_count": 1,
   "metadata": {},
   "outputs": [
    {
     "data": {
      "text/plain": [
       "['suzana']"
      ]
     },
     "execution_count": 1,
     "metadata": {},
     "output_type": "execute_result"
    }
   ],
   "source": [
    "seq = ['banana', 'suzana']\n",
    "list(filter(lambda word: word[0]=='s',seq))"
   ]
  },
  {
   "cell_type": "markdown",
   "metadata": {},
   "source": [
    "Using .format means we pass in a string or integer of some sort into our print statement ie: \n",
    "\n",
    "pet = cat\n",
    "print(\"is this a {}\".format(pet))"
   ]
  },
  {
   "cell_type": "markdown",
   "metadata": {},
   "source": [
    "Map is used to go through a list and apply a function to each element of that list for example: if you have a function that is defined and multiplies an int by 2 ...\n",
    "\n",
    "def times2(num):\n",
    "    return num*2 \n",
    "\n",
    "seq = [1,2,3,4,5]\n",
    "\n",
    "Now to have each element in seq multiplied by 2 using the function above, use map \n",
    "\n",
    "map(times2,seq )\n",
    "\n",
    "This will not give you a proper output, so to make it a list type the following: \n",
    "\n",
    "list(map(times2,seq))"
   ]
  },
  {
   "cell_type": "markdown",
   "metadata": {},
   "source": [
    "For the above example you can also use lambda expressions : \n",
    "\n",
    "list(map(lambda num:num*2, seq))"
   ]
  },
  {
   "cell_type": "markdown",
   "metadata": {},
   "source": [
    "FILTER function \n",
    "\n",
    "Filter out something in a list / sequence. \n",
    "\n",
    "filter(function passed in or lambda expression passed in with boolean return) \n",
    "\n",
    "EXAMPLE: filter(lambda num:num*2 == 0, seq)\n",
    "turn it into a list \n",
    "list(filter(lambda num:num*2== 0 , seq ))\n",
    "\n"
   ]
  },
  {
   "cell_type": "markdown",
   "metadata": {},
   "source": [
    "STRING Methods \n",
    "s.lower --> lowercase every letter in a string \n",
    "ex. s.lower ()\n",
    "\n",
    "s.upper --> uppercase every letter in a string \n",
    "\n",
    "s.split --> splits a string at every space so between words \n",
    "output : ['word1', 'word2']\n",
    "Can use this to split at a certain point in a string ie if we have a string \"Hello #Sports\" \n",
    "\n",
    "s.split('#')[1] = #Sports \n",
    "\n",
    "\n",
    "\n"
   ]
  },
  {
   "cell_type": "markdown",
   "metadata": {},
   "source": [
    "DICTIONARIES \n",
    "d = {'k1':1, 'k2':2}\n",
    "\n",
    "d.keys() --> returns keys so whatever is before ':' in a dictionary is returned --> dict_keys(['k2', 'k1'])\n",
    "d.items() --> returns items of a dictionary --> dict_items ([('k2',2), ('k1',1)])\n",
    "d.values() --> dict_values ([2,1])\n",
    "\n",
    "list.pop() --> takes off the last item off the list and returns it to you\n",
    "list.pop(0) --> First element of list removed \n",
    "list.append('new_item') --> appends new item to end of the list \n",
    "\n"
   ]
  },
  {
   "cell_type": "markdown",
   "metadata": {},
   "source": [
    "TUPLE \n",
    "\n",
    "x = [(0,1), (2,3)]\n",
    "for item in x : \n",
    "    print (item)\n",
    "\n",
    "\n",
    "output: \n",
    "(0,1)\n",
    "(2,3) \n",
    "\n",
    "___\n",
    "for (a,b) in x: \n",
    "    print (a)\n",
    "\n",
    "output: \n",
    "0\n",
    "2\n"
   ]
  }
 ],
 "metadata": {
  "interpreter": {
   "hash": "31f2aee4e71d21fbe5cf8b01ff0e069b9275f58929596ceb00d14d90e3e16cd6"
  },
  "kernelspec": {
   "display_name": "Python 3.7.3 64-bit",
   "name": "python3"
  },
  "language_info": {
   "codemirror_mode": {
    "name": "ipython",
    "version": 3
   },
   "file_extension": ".py",
   "mimetype": "text/x-python",
   "name": "python",
   "nbconvert_exporter": "python",
   "pygments_lexer": "ipython3",
   "version": "3.7.3"
  },
  "orig_nbformat": 4
 },
 "nbformat": 4,
 "nbformat_minor": 2
}
